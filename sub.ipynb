{
 "cells": [
  {
   "cell_type": "code",
   "execution_count": 119,
   "id": "0f3190d1",
   "metadata": {},
   "outputs": [],
   "source": [
    "import pandas as pd\n",
    "import numpy as np\n",
    "from xgboost import XGBClassifier\n",
    "from sklearn.linear_model import LogisticRegression\n",
    "import matplotlib.pyplot as plt"
   ]
  },
  {
   "cell_type": "code",
   "execution_count": 229,
   "id": "5c585a11",
   "metadata": {},
   "outputs": [],
   "source": [
    "df = pd.read_csv('rawdata/USvideos.csv')"
   ]
  },
  {
   "cell_type": "code",
   "execution_count": 121,
   "id": "620d3674",
   "metadata": {},
   "outputs": [
    {
     "data": {
      "text/plain": [
       "video_id                    0\n",
       "trending_date               0\n",
       "title                       0\n",
       "channel_title               0\n",
       "category_id                 0\n",
       "publish_time                0\n",
       "tags                        0\n",
       "views                       0\n",
       "likes                       0\n",
       "dislikes                    0\n",
       "comment_count               0\n",
       "thumbnail_link              0\n",
       "comments_disabled           0\n",
       "ratings_disabled            0\n",
       "video_error_or_removed      0\n",
       "description               570\n",
       "dtype: int64"
      ]
     },
     "execution_count": 121,
     "metadata": {},
     "output_type": "execute_result"
    }
   ],
   "source": [
    "df.isnull().sum()"
   ]
  },
  {
   "cell_type": "code",
   "execution_count": 122,
   "id": "d0872b42",
   "metadata": {},
   "outputs": [
    {
     "data": {
      "text/html": [
       "<div>\n",
       "<style scoped>\n",
       "    .dataframe tbody tr th:only-of-type {\n",
       "        vertical-align: middle;\n",
       "    }\n",
       "\n",
       "    .dataframe tbody tr th {\n",
       "        vertical-align: top;\n",
       "    }\n",
       "\n",
       "    .dataframe thead th {\n",
       "        text-align: right;\n",
       "    }\n",
       "</style>\n",
       "<table border=\"1\" class=\"dataframe\">\n",
       "  <thead>\n",
       "    <tr style=\"text-align: right;\">\n",
       "      <th></th>\n",
       "      <th>trending_date</th>\n",
       "      <th>title</th>\n",
       "      <th>channel_title</th>\n",
       "      <th>category_id</th>\n",
       "      <th>publish_time</th>\n",
       "      <th>tags</th>\n",
       "      <th>views</th>\n",
       "      <th>likes</th>\n",
       "      <th>dislikes</th>\n",
       "      <th>comment_count</th>\n",
       "      <th>comments_disabled</th>\n",
       "      <th>ratings_disabled</th>\n",
       "    </tr>\n",
       "  </thead>\n",
       "  <tbody>\n",
       "    <tr>\n",
       "      <th>0</th>\n",
       "      <td>17.14.11</td>\n",
       "      <td>WE WANT TO TALK ABOUT OUR MARRIAGE</td>\n",
       "      <td>CaseyNeistat</td>\n",
       "      <td>22</td>\n",
       "      <td>2017-11-13T17:13:01.000Z</td>\n",
       "      <td>SHANtell martin</td>\n",
       "      <td>748374</td>\n",
       "      <td>57527</td>\n",
       "      <td>2966</td>\n",
       "      <td>15954</td>\n",
       "      <td>False</td>\n",
       "      <td>False</td>\n",
       "    </tr>\n",
       "    <tr>\n",
       "      <th>1</th>\n",
       "      <td>17.14.11</td>\n",
       "      <td>The Trump Presidency: Last Week Tonight with J...</td>\n",
       "      <td>LastWeekTonight</td>\n",
       "      <td>24</td>\n",
       "      <td>2017-11-13T07:30:00.000Z</td>\n",
       "      <td>last week tonight trump presidency|\"last week ...</td>\n",
       "      <td>2418783</td>\n",
       "      <td>97185</td>\n",
       "      <td>6146</td>\n",
       "      <td>12703</td>\n",
       "      <td>False</td>\n",
       "      <td>False</td>\n",
       "    </tr>\n",
       "    <tr>\n",
       "      <th>2</th>\n",
       "      <td>17.14.11</td>\n",
       "      <td>Racist Superman | Rudy Mancuso, King Bach &amp; Le...</td>\n",
       "      <td>Rudy Mancuso</td>\n",
       "      <td>23</td>\n",
       "      <td>2017-11-12T19:05:24.000Z</td>\n",
       "      <td>racist superman|\"rudy\"|\"mancuso\"|\"king\"|\"bach\"...</td>\n",
       "      <td>3191434</td>\n",
       "      <td>146033</td>\n",
       "      <td>5339</td>\n",
       "      <td>8181</td>\n",
       "      <td>False</td>\n",
       "      <td>False</td>\n",
       "    </tr>\n",
       "    <tr>\n",
       "      <th>3</th>\n",
       "      <td>17.14.11</td>\n",
       "      <td>Nickelback Lyrics: Real or Fake?</td>\n",
       "      <td>Good Mythical Morning</td>\n",
       "      <td>24</td>\n",
       "      <td>2017-11-13T11:00:04.000Z</td>\n",
       "      <td>rhett and link|\"gmm\"|\"good mythical morning\"|\"...</td>\n",
       "      <td>343168</td>\n",
       "      <td>10172</td>\n",
       "      <td>666</td>\n",
       "      <td>2146</td>\n",
       "      <td>False</td>\n",
       "      <td>False</td>\n",
       "    </tr>\n",
       "    <tr>\n",
       "      <th>4</th>\n",
       "      <td>17.14.11</td>\n",
       "      <td>I Dare You: GOING BALD!?</td>\n",
       "      <td>nigahiga</td>\n",
       "      <td>24</td>\n",
       "      <td>2017-11-12T18:01:41.000Z</td>\n",
       "      <td>ryan|\"higa\"|\"higatv\"|\"nigahiga\"|\"i dare you\"|\"...</td>\n",
       "      <td>2095731</td>\n",
       "      <td>132235</td>\n",
       "      <td>1989</td>\n",
       "      <td>17518</td>\n",
       "      <td>False</td>\n",
       "      <td>False</td>\n",
       "    </tr>\n",
       "    <tr>\n",
       "      <th>...</th>\n",
       "      <td>...</td>\n",
       "      <td>...</td>\n",
       "      <td>...</td>\n",
       "      <td>...</td>\n",
       "      <td>...</td>\n",
       "      <td>...</td>\n",
       "      <td>...</td>\n",
       "      <td>...</td>\n",
       "      <td>...</td>\n",
       "      <td>...</td>\n",
       "      <td>...</td>\n",
       "      <td>...</td>\n",
       "    </tr>\n",
       "    <tr>\n",
       "      <th>40944</th>\n",
       "      <td>18.14.06</td>\n",
       "      <td>The Cat Who Caught the Laser</td>\n",
       "      <td>AaronsAnimals</td>\n",
       "      <td>15</td>\n",
       "      <td>2018-05-18T13:00:04.000Z</td>\n",
       "      <td>aarons animals|\"aarons\"|\"animals\"|\"cat\"|\"cats\"...</td>\n",
       "      <td>1685609</td>\n",
       "      <td>38160</td>\n",
       "      <td>1385</td>\n",
       "      <td>2657</td>\n",
       "      <td>False</td>\n",
       "      <td>False</td>\n",
       "    </tr>\n",
       "    <tr>\n",
       "      <th>40945</th>\n",
       "      <td>18.14.06</td>\n",
       "      <td>True Facts : Ant Mutualism</td>\n",
       "      <td>zefrank1</td>\n",
       "      <td>22</td>\n",
       "      <td>2018-05-18T01:00:06.000Z</td>\n",
       "      <td>[none]</td>\n",
       "      <td>1064798</td>\n",
       "      <td>60008</td>\n",
       "      <td>382</td>\n",
       "      <td>3936</td>\n",
       "      <td>False</td>\n",
       "      <td>False</td>\n",
       "    </tr>\n",
       "    <tr>\n",
       "      <th>40946</th>\n",
       "      <td>18.14.06</td>\n",
       "      <td>I GAVE SAFIYA NYGAARD A PERFECT HAIR MAKEOVER ...</td>\n",
       "      <td>Brad Mondo</td>\n",
       "      <td>24</td>\n",
       "      <td>2018-05-18T17:34:22.000Z</td>\n",
       "      <td>I gave safiya nygaard a perfect hair makeover ...</td>\n",
       "      <td>1066451</td>\n",
       "      <td>48068</td>\n",
       "      <td>1032</td>\n",
       "      <td>3992</td>\n",
       "      <td>False</td>\n",
       "      <td>False</td>\n",
       "    </tr>\n",
       "    <tr>\n",
       "      <th>40947</th>\n",
       "      <td>18.14.06</td>\n",
       "      <td>How Black Panther Should Have Ended</td>\n",
       "      <td>How It Should Have Ended</td>\n",
       "      <td>1</td>\n",
       "      <td>2018-05-17T17:00:04.000Z</td>\n",
       "      <td>Black Panther|\"HISHE\"|\"Marvel\"|\"Infinity War\"|...</td>\n",
       "      <td>5660813</td>\n",
       "      <td>192957</td>\n",
       "      <td>2846</td>\n",
       "      <td>13088</td>\n",
       "      <td>False</td>\n",
       "      <td>False</td>\n",
       "    </tr>\n",
       "    <tr>\n",
       "      <th>40948</th>\n",
       "      <td>18.14.06</td>\n",
       "      <td>Official Call of Duty®: Black Ops 4 — Multipla...</td>\n",
       "      <td>Call of Duty</td>\n",
       "      <td>20</td>\n",
       "      <td>2018-05-17T17:09:38.000Z</td>\n",
       "      <td>call of duty|\"cod\"|\"activision\"|\"Black Ops 4\"</td>\n",
       "      <td>10306119</td>\n",
       "      <td>357079</td>\n",
       "      <td>212976</td>\n",
       "      <td>144795</td>\n",
       "      <td>False</td>\n",
       "      <td>False</td>\n",
       "    </tr>\n",
       "  </tbody>\n",
       "</table>\n",
       "<p>40949 rows × 12 columns</p>\n",
       "</div>"
      ],
      "text/plain": [
       "      trending_date                                              title  \\\n",
       "0          17.14.11                 WE WANT TO TALK ABOUT OUR MARRIAGE   \n",
       "1          17.14.11  The Trump Presidency: Last Week Tonight with J...   \n",
       "2          17.14.11  Racist Superman | Rudy Mancuso, King Bach & Le...   \n",
       "3          17.14.11                   Nickelback Lyrics: Real or Fake?   \n",
       "4          17.14.11                           I Dare You: GOING BALD!?   \n",
       "...             ...                                                ...   \n",
       "40944      18.14.06                       The Cat Who Caught the Laser   \n",
       "40945      18.14.06                         True Facts : Ant Mutualism   \n",
       "40946      18.14.06  I GAVE SAFIYA NYGAARD A PERFECT HAIR MAKEOVER ...   \n",
       "40947      18.14.06                How Black Panther Should Have Ended   \n",
       "40948      18.14.06  Official Call of Duty®: Black Ops 4 — Multipla...   \n",
       "\n",
       "                  channel_title  category_id              publish_time  \\\n",
       "0                  CaseyNeistat           22  2017-11-13T17:13:01.000Z   \n",
       "1               LastWeekTonight           24  2017-11-13T07:30:00.000Z   \n",
       "2                  Rudy Mancuso           23  2017-11-12T19:05:24.000Z   \n",
       "3         Good Mythical Morning           24  2017-11-13T11:00:04.000Z   \n",
       "4                      nigahiga           24  2017-11-12T18:01:41.000Z   \n",
       "...                         ...          ...                       ...   \n",
       "40944             AaronsAnimals           15  2018-05-18T13:00:04.000Z   \n",
       "40945                  zefrank1           22  2018-05-18T01:00:06.000Z   \n",
       "40946                Brad Mondo           24  2018-05-18T17:34:22.000Z   \n",
       "40947  How It Should Have Ended            1  2018-05-17T17:00:04.000Z   \n",
       "40948              Call of Duty           20  2018-05-17T17:09:38.000Z   \n",
       "\n",
       "                                                    tags     views   likes  \\\n",
       "0                                        SHANtell martin    748374   57527   \n",
       "1      last week tonight trump presidency|\"last week ...   2418783   97185   \n",
       "2      racist superman|\"rudy\"|\"mancuso\"|\"king\"|\"bach\"...   3191434  146033   \n",
       "3      rhett and link|\"gmm\"|\"good mythical morning\"|\"...    343168   10172   \n",
       "4      ryan|\"higa\"|\"higatv\"|\"nigahiga\"|\"i dare you\"|\"...   2095731  132235   \n",
       "...                                                  ...       ...     ...   \n",
       "40944  aarons animals|\"aarons\"|\"animals\"|\"cat\"|\"cats\"...   1685609   38160   \n",
       "40945                                             [none]   1064798   60008   \n",
       "40946  I gave safiya nygaard a perfect hair makeover ...   1066451   48068   \n",
       "40947  Black Panther|\"HISHE\"|\"Marvel\"|\"Infinity War\"|...   5660813  192957   \n",
       "40948      call of duty|\"cod\"|\"activision\"|\"Black Ops 4\"  10306119  357079   \n",
       "\n",
       "       dislikes  comment_count  comments_disabled  ratings_disabled  \n",
       "0          2966          15954              False             False  \n",
       "1          6146          12703              False             False  \n",
       "2          5339           8181              False             False  \n",
       "3           666           2146              False             False  \n",
       "4          1989          17518              False             False  \n",
       "...         ...            ...                ...               ...  \n",
       "40944      1385           2657              False             False  \n",
       "40945       382           3936              False             False  \n",
       "40946      1032           3992              False             False  \n",
       "40947      2846          13088              False             False  \n",
       "40948    212976         144795              False             False  \n",
       "\n",
       "[40949 rows x 12 columns]"
      ]
     },
     "execution_count": 122,
     "metadata": {},
     "output_type": "execute_result"
    }
   ],
   "source": [
    "df = df.drop(columns=['description', 'video_id', 'thumbnail_link', 'video_error_or_removed'])\n",
    "df"
   ]
  },
  {
   "cell_type": "markdown",
   "id": "09cbb282",
   "metadata": {},
   "source": [
    "# Feature Engineering"
   ]
  },
  {
   "cell_type": "code",
   "execution_count": 230,
   "id": "49c29758",
   "metadata": {},
   "outputs": [],
   "source": [
    "import seaborn as sns\n",
    "\n",
    "# feature list\n",
    "# trending_date\t,trending_date, title, channel_title, category_id, publish_time,tags , views, likes , dislikes , comment_count, comments_disabled,ratings_disabled\n",
    "\n",
    "# engineering publish_time\n",
    "\n",
    "df['at_what_hour'] = pd.to_datetime(df['publish_time']).dt.hour\n",
    "df['dayofweek'] = pd.to_datetime(df['publish_time']).dt.dayofweek\n",
    "\n",
    "# engineering trending_date\n",
    "\n",
    "df['trending_date'] = pd.to_datetime(df['trending_date'], format='%y.%d.%m').dt.tz_localize('UTC')\n",
    "df['how_long_till_trending'] = (df['trending_date'] - pd.to_datetime(df['publish_time'])).dt.total_seconds()\n",
    "\n",
    "\n",
    "# engineering comments_disabled, ratings_disabled\n",
    "\n",
    "df['comments_disabled'] = df['comments_disabled'].astype(int)\n",
    "df['ratings_disabled'] = df['ratings_disabled'].astype(int)\n",
    "\n",
    "\n",
    "df.drop(columns=['publish_time', 'trending_date', 'category_id'], inplace=True)\n",
    "\n",
    "# # Normalize numeric features\n",
    "# numeric_features = ['views', 'likes', 'dislikes', 'comment_count', 'at_what_hour', 'dayofweek', 'how_long_till_trending']\n",
    "\n",
    "# from sklearn.preprocessing import MinMaxScaler\n",
    "# scaler = MinMaxScaler()\n",
    "# df[numeric_features] = scaler.fit_transform(df[numeric_features])\n",
    "\n"
   ]
  },
  {
   "cell_type": "markdown",
   "id": "a6eab72d",
   "metadata": {},
   "source": [
    "# Vector Embedding"
   ]
  },
  {
   "cell_type": "code",
   "execution_count": null,
   "id": "2722a7bf",
   "metadata": {},
   "outputs": [
    {
     "name": "stderr",
     "output_type": "stream",
     "text": [
      "c:\\Users\\25194\\Desktop\\SubCancelationPrediction\\.venv\\lib\\site-packages\\tqdm\\auto.py:21: TqdmWarning: IProgress not found. Please update jupyter and ipywidgets. See https://ipywidgets.readthedocs.io/en/stable/user_install.html\n",
      "  from .autonotebook import tqdm as notebook_tqdm\n",
      "c:\\Users\\25194\\Desktop\\SubCancelationPrediction\\.venv\\lib\\site-packages\\huggingface_hub\\file_download.py:143: UserWarning: `huggingface_hub` cache-system uses symlinks by default to efficiently store duplicated files but your machine does not support them in C:\\Users\\25194\\.cache\\huggingface\\hub\\models--sentence-transformers--all-MiniLM-L6-v2. Caching files will still work but in a degraded version that might require more space on your disk. This warning can be disabled by setting the `HF_HUB_DISABLE_SYMLINKS_WARNING` environment variable. For more details, see https://huggingface.co/docs/huggingface_hub/how-to-cache#limitations.\n",
      "To support symlinks on Windows, you either need to activate Developer Mode or to run Python as an administrator. In order to activate developer mode, see this article: https://docs.microsoft.com/en-us/windows/apps/get-started/enable-your-device-for-development\n",
      "  warnings.warn(message)\n",
      "Xet Storage is enabled for this repo, but the 'hf_xet' package is not installed. Falling back to regular HTTP download. For better performance, install the package with: `pip install huggingface_hub[hf_xet]` or `pip install hf_xet`\n",
      "Batches: 100%|██████████| 1280/1280 [01:35<00:00, 13.36it/s]\n",
      "Batches: 100%|██████████| 1280/1280 [00:45<00:00, 28.15it/s]\n",
      "Batches: 100%|██████████| 1280/1280 [11:15<00:00,  1.90it/s]\n"
     ]
    }
   ],
   "source": [
    "# make vector embedding using sentence transformers\n",
    "from sentence_transformers import SentenceTransformer\n",
    "\n",
    "\n",
    "model = SentenceTransformer('all-MiniLM-L6-v2')\n",
    "title_embedding = model.encode(df['title'].astype(str).tolist(), show_progress_bar=True)\n",
    "channel_title_embedding= model.encode(df['channel_title'].astype(str).tolist(), show_progress_bar=True)\n",
    "tags_embedding = model.encode(df['tags'].astype(str).tolist(), show_progress_bar=True)\n"
   ]
  },
  {
   "cell_type": "markdown",
   "id": "0afc40cd",
   "metadata": {},
   "source": [
    "# Saving Embedding vectors"
   ]
  },
  {
   "cell_type": "code",
   "execution_count": null,
   "id": "65e220c2",
   "metadata": {},
   "outputs": [
    {
     "name": "stdout",
     "output_type": "stream",
     "text": [
      "(40949, 384)\n",
      "(40949, 384)\n",
      "(40949, 384)\n"
     ]
    }
   ],
   "source": [
    "# concatenate embeddings with the dataframe\n",
    "\n",
    "print(title_embedding.shape)\n",
    "print(channel_title_embedding.shape)\n",
    "print(tags_embedding.shape)\n",
    "\n",
    "\n",
    "np.save('title_embedding.npy', title_embedding)\n",
    "np.save('channel_title_embedding.npy', channel_title_embedding)\n",
    "np.save('tags_embedding.npy', tags_embedding)"
   ]
  },
  {
   "cell_type": "markdown",
   "id": "0668ca6a",
   "metadata": {},
   "source": [
    "# Concatenateing the embedded features with normal numeric features"
   ]
  },
  {
   "cell_type": "code",
   "execution_count": 231,
   "id": "e0e34e19",
   "metadata": {},
   "outputs": [
    {
     "data": {
      "text/plain": [
       "((40949, 1158), (40949,))"
      ]
     },
     "execution_count": 231,
     "metadata": {},
     "output_type": "execute_result"
    }
   ],
   "source": [
    "numeric_features = ['likes', 'dislikes', 'comment_count', 'at_what_hour', 'dayofweek', 'how_long_till_trending']\n",
    "X = np.concatenate((title_embedding, channel_title_embedding, tags_embedding, df[numeric_features].values), axis=1)\n",
    "Y = df['views'].values\n",
    "X.shape, Y.shape\n"
   ]
  },
  {
   "cell_type": "markdown",
   "id": "43dcabc3",
   "metadata": {},
   "source": [
    "# Splitting for training "
   ]
  },
  {
   "cell_type": "code",
   "execution_count": 232,
   "id": "1ad8c2b8",
   "metadata": {},
   "outputs": [
    {
     "data": {
      "text/plain": [
       "((32759, 1158), (8190, 1158), (32759,), (8190,))"
      ]
     },
     "execution_count": 232,
     "metadata": {},
     "output_type": "execute_result"
    }
   ],
   "source": [
    "from sklearn.model_selection import train_test_split\n",
    "\n",
    "X_train, X_test, Y_train, Y_test = train_test_split(X, Y, test_size=0.2, random_state=42)\n",
    "X_train.shape, X_test.shape, Y_train.shape, Y_test.shape"
   ]
  },
  {
   "cell_type": "markdown",
   "id": "41e1e3ca",
   "metadata": {},
   "source": [
    "# XGboost "
   ]
  },
  {
   "cell_type": "code",
   "execution_count": null,
   "id": "259d9bb1",
   "metadata": {},
   "outputs": [
    {
     "name": "stdout",
     "output_type": "stream",
     "text": [
      "XGBoost MSE: 620588630016.0\n",
      "XGBoost R^2 Score: 0.9871116876602173\n"
     ]
    }
   ],
   "source": [
    "from sklearn.metrics import mean_squared_error, r2_score\n",
    "from xgboost import XGBRegressor\n",
    "xgb_model  = XGBRegressor(n_estimators=100,random_state=42 ,tree_method='hist', device='cuda')\n",
    "xgb_model.fit(X_train, Y_train)\n",
    "xgb_y_pred = xgb_model.predict(X_test)\n",
    "print(\"XGBoost MSE:\", mean_squared_error(Y_test, xgb_y_pred))\n",
    "print(\"XGBoost R^2 Score:\", r2_score(Y_test, xgb_y_pred))"
   ]
  },
  {
   "cell_type": "code",
   "execution_count": 234,
   "id": "512c85a9",
   "metadata": {},
   "outputs": [
    {
     "data": {
      "image/png": "[encoded data removed]",
      "text/plain": [
       "<Figure size 1000x600 with 1 Axes>"
      ]
     },
     "metadata": {},
     "output_type": "display_data"
    }
   ],
   "source": [
    "plt.figure(figsize=(10, 6))\n",
    "plt.scatter(Y_test, xgb_y_pred, alpha=1)\n",
    "plt.plot([Y_test.min(), Y_test.max()], [Y_test.min(), Y_test.max()], color='red')\n",
    "plt.xlabel('True Values')\n",
    "plt.ylabel('Predictions')\n",
    "plt.title('XGBoost Predictions vs True Values')\n",
    "plt.show()"
   ]
  },
  {
   "cell_type": "code",
   "execution_count": 235,
   "id": "bb7db820",
   "metadata": {},
   "outputs": [],
   "source": [
    "test_df= pd.read_csv('rawdata/CAvideos.csv')"
   ]
  },
  {
   "cell_type": "code",
   "execution_count": null,
   "id": "5200ec27",
   "metadata": {},
   "outputs": [],
   "source": [
    "test_df = test_df.drop(columns=['description', 'video_id', 'thumbnail_link', 'video_error_or_removed'])\n",
    "test_df['at_what_hour'] = pd.to_datetime(test_df['publish_time']).dt.hour\n",
    "test_df['dayofweek'] = pd.to_datetime(test_df['publish_time']).dt.dayofweek\n",
    "# engineering trending_date\n",
    "test_df['trending_date'] = pd.to_datetime(test_df['trending_date'], format='%y.%d.%m').dt.tz_localize('UTC')\n",
    "test_df['how_long_till_trending'] = (test_df['trending_date'] - pd.to_datetime(test_df['publish_time'])).dt.total_seconds()\n",
    "# engineering comments_disabled, ratings_disabled\n",
    "test_df['comments_disabled'] = test_df['comments_disabled'].astype(int)\n",
    "test_df['ratings_disabled'] = test_df['ratings_disabled'].astype(int)\n",
    "test_df.drop(columns=['publish_time', 'trending_date', 'category_id'], inplace=True)\n",
    "# Normalize numeric features\n",
    "numeric_features = ['likes', 'dislikes', 'comment_count', 'at_what_hour', 'dayofweek', 'how_long_till_trending']"
   ]
  },
  {
   "cell_type": "code",
   "execution_count": null,
   "id": "3f8b105e",
   "metadata": {},
   "outputs": [
    {
     "name": "stderr",
     "output_type": "stream",
     "text": [
      "Batches: 100%|██████████| 1278/1278 [04:14<00:00,  5.03it/s]\n",
      "Batches: 100%|██████████| 1278/1278 [00:58<00:00, 21.99it/s]\n",
      "Batches: 100%|██████████| 1278/1278 [15:19<00:00,  1.39it/s]\n"
     ]
    }
   ],
   "source": [
    "from sentence_transformers import SentenceTransformer\n",
    "import torch\n",
    "device = 'cuda' if torch.cuda.is_available() else 'cpu'\n",
    "model = SentenceTransformer('all-MiniLM-L6-v2')\n",
    "model = model.to(device)  \n",
    "test_title_embedding = model.encode(test_df['title'].astype(str).tolist(), show_progress_bar=True, batch_size=64)\n",
    "test_channel_title_embedding = model.encode(test_df['channel_title'].astype(str).tolist(), show_progress_bar=True, batch_size=64)\n",
    "test_tags_embedding = model.encode(test_df['tags'].astype(str).tolist(), show_progress_bar=True, batch_size=64)"
   ]
  },
  {
   "cell_type": "markdown",
   "id": "d57eb65e",
   "metadata": {},
   "source": [
    "# Test on Unseen New Data"
   ]
  },
  {
   "cell_type": "code",
   "execution_count": null,
   "id": "c439b61b",
   "metadata": {},
   "outputs": [
    {
     "name": "stdout",
     "output_type": "stream",
     "text": [
      "XGBoost Test MAE: 436446.84375\n",
      "XGBoost Test MSE: 1197373652992.0\n",
      "XGBoost Test R^2 Score: 0.8958625197410583\n"
     ]
    },
    {
     "data": {
      "image/png": "[encoded data removed]",
      "text/plain": [
       "<Figure size 1000x600 with 1 Axes>"
      ]
     },
     "metadata": {},
     "output_type": "display_data"
    }
   ],
   "source": [
    "from sklearn.metrics import mean_squared_error, r2_score , mean_absolute_error\n",
    "test_numeric_features = ['likes', 'dislikes', 'comment_count', 'at_what_hour', 'dayofweek', 'how_long_till_trending']\n",
    "test_X = np.concatenate((test_title_embedding, test_channel_title_embedding, test_tags_embedding, test_df[test_numeric_features].values), axis=1)\n",
    "test_Y = test_df['views'].values\n",
    "xgb_test_y_pred = xgb_model.predict(test_X)\n",
    "print(\"XGBoost Test MAE:\", mean_absolute_error(test_Y, xgb_test_y_pred))\n",
    "print(\"XGBoost Test MSE:\", mean_squared_error(test_Y, xgb_test_y_pred))\n",
    "print(\"XGBoost Test R^2 Score:\", r2_score(test_Y, xgb_test_y_pred))\n",
    "plt.figure(figsize=(10, 6))\n",
    "plt.scatter(test_Y, xgb_test_y_pred, alpha=1)\n",
    "plt.plot([test_Y.min(), test_Y.max()], [test_Y.min(), test_Y.max()], color='red')\n",
    "plt.xlabel('True Values')\n",
    "plt.ylabel('Predictions')\n",
    "plt.title('XGBoost Test Predictions vs True Values')\n",
    "plt.show()"
   ]
  },
  {
   "cell_type": "code",
   "execution_count": 239,
   "id": "c74854a2",
   "metadata": {},
   "outputs": [
    {
     "name": "stdout",
     "output_type": "stream",
     "text": [
      " List of ten predictions: [18485916.    1652733.    3557079.2   2621242.8  30072188.    3176077.8\n",
      "  4453173.     777167.25  4483176.5    422700.62]\n"
     ]
    }
   ],
   "source": [
    "print(\" List of ten predictions:\" , xgb_test_y_pred[:10])"
   ]
  },
  {
   "cell_type": "code",
   "execution_count": null,
   "id": "24e1037f",
   "metadata": {},
   "outputs": [],
   "source": []
  }
 ],
 "metadata": {
  "kernelspec": {
   "display_name": ".venv",
   "language": "python",
   "name": "python3"
  },
  "language_info": {
   "codemirror_mode": {
    "name": "ipython",
    "version": 3
   },
   "file_extension": ".py",
   "mimetype": "text/x-python",
   "name": "python",
   "nbconvert_exporter": "python",
   "pygments_lexer": "ipython3",
   "version": "3.10.11"
  }
 },
 "nbformat": 4,
 "nbformat_minor": 5
}
